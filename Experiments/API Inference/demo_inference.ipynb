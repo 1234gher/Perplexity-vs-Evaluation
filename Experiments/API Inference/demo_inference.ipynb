{
 "cells": [
  {
   "cell_type": "code",
   "execution_count": 1,
   "metadata": {},
   "outputs": [
    {
     "data": {
      "text/plain": [
       "True"
      ]
     },
     "execution_count": 1,
     "metadata": {},
     "output_type": "execute_result"
    }
   ],
   "source": [
    "from dotenv import load_dotenv\n",
    "import os\n",
    "\n",
    "load_dotenv()"
   ]
  },
  {
   "cell_type": "code",
   "execution_count": 2,
   "metadata": {},
   "outputs": [],
   "source": [
    "COHERE_PRODUCTION_KEY = os.getenv(\"COHERE_PRODUCTION_KEY\")"
   ]
  },
  {
   "cell_type": "code",
   "execution_count": 3,
   "metadata": {},
   "outputs": [],
   "source": [
    "import cohere\n",
    "\n",
    "co = cohere.Client(COHERE_PRODUCTION_KEY)\n"
   ]
  },
  {
   "cell_type": "code",
   "execution_count": 4,
   "metadata": {},
   "outputs": [],
   "source": [
    "def parse_response_for_likelihood(response):\n",
    "    return response.generations[0].likelihood"
   ]
  },
  {
   "cell_type": "code",
   "execution_count": 7,
   "metadata": {},
   "outputs": [],
   "source": [
    "def get_api_response(prompt):\n",
    "    response = co.generate(\n",
    "        # model='c4ai-aya-23',\n",
    "        prompt=prompt,\n",
    "        return_likelihoods='ALL',\n",
    "        max_tokens=0 # Since we do not want to generate and only want likelihoods of tokens\n",
    "    )\n",
    "    return response"
   ]
  },
  {
   "cell_type": "code",
   "execution_count": 8,
   "metadata": {},
   "outputs": [],
   "source": [
    "response_coherent_sentence = get_api_response(\"Please explain to me how LLMs work\")\n",
    "\n",
    "response_non_coherent_sentence = get_api_response(\"explain Please me to how work LLMs\")"
   ]
  },
  {
   "cell_type": "code",
   "execution_count": 24,
   "metadata": {},
   "outputs": [
    {
     "name": "stdout",
     "output_type": "stream",
     "text": [
      "Coherent sentence likelihood:  -4.7006254\n",
      "Non coherent sentence likelihood:  -8.044414\n"
     ]
    }
   ],
   "source": [
    "# Non coherent sentence should have lower likelihood as compared to coherent sentence\n",
    "print(\"Coherent sentence likelihood: \", parse_response_for_likelihood(response_coherent_sentence))\n",
    "print(\"Non coherent sentence likelihood: \", parse_response_for_likelihood(response_non_coherent_sentence))"
   ]
  },
  {
   "cell_type": "markdown",
   "metadata": {},
   "source": [
    "# For HellaSwag Dataset \n",
    "\n",
    "Testing Example from Page 13 of the paper - https://www.semanticscholar.org/reader/8b0f27bb594b1eaaf493eaf1e2ee723a2b0a19ad"
   ]
  },
  {
   "cell_type": "code",
   "execution_count": 27,
   "metadata": {},
   "outputs": [],
   "source": [
    "base_string = \"\"\"\n",
    "A kitchen is shown followed by various ingredients\n",
    "and a woman speaking to the camera. She begins\n",
    "showing the ingredients and putting them into a hot\n",
    "boiling pot and stirring around. she\n",
    "\"\"\"\n",
    "\n",
    "option_a = \"\"\"\n",
    "shows off the oven and begins assembling the\n",
    "cookies in the oven by pushing a button on the oven.\n",
    "\"\"\"\n",
    "\n",
    "option_b = \"\"\"\n",
    "continues mixing up more ingredients and then\n",
    "puts them all together in a bowl, serving the dish\n",
    "ad sprinkling olive oil around it.\n",
    "\"\"\"\n",
    "\n",
    "option_c = \"\"\"\n",
    "shows raising and lowering the pot until adding\n",
    "more water and corn syrup.\n",
    "\"\"\"\n",
    "\n",
    "option_d = \"\"\"\n",
    "places an omelette onto the screen and puts it in the oven to bake.\n",
    "\"\"\""
   ]
  },
  {
   "cell_type": "code",
   "execution_count": 28,
   "metadata": {},
   "outputs": [],
   "source": [
    "# clean all the strings by removing newlines and stripping whitespaces\n",
    "base_string = base_string.replace(\"\\n\", \" \").strip()\n",
    "option_a = option_a.replace(\"\\n\", \" \").strip()\n",
    "option_b = option_b.replace(\"\\n\", \" \").strip()\n",
    "option_c = option_c.replace(\"\\n\", \" \").strip()\n",
    "option_d = option_d.replace(\"\\n\", \" \").strip()"
   ]
  },
  {
   "cell_type": "code",
   "execution_count": 29,
   "metadata": {},
   "outputs": [
    {
     "name": "stdout",
     "output_type": "stream",
     "text": [
      "Base string:  A kitchen is shown followed by various ingredients and a woman speaking to the camera. She begins showing the ingredients and putting them into a hot boiling pot and stirring around. she\n",
      "Option A:  shows off the oven and begins assembling the cookies in the oven by pushing a button on the oven.\n",
      "Option B:  continues mixing up more ingredients and then puts them all together in a bowl, serving the dish ad sprinkling olive oil around it.\n",
      "Option C:  shows raising and lowering the pot until adding more water and corn syrup.\n",
      "Option D:  places an omelette onto the screen and puts it in the oven to bake.\n"
     ]
    }
   ],
   "source": [
    "print(\"Base string: \", base_string)\n",
    "print(\"Option A: \", option_a)\n",
    "print(\"Option B: \", option_b)\n",
    "print(\"Option C: \", option_c)\n",
    "print(\"Option D: \", option_d)"
   ]
  },
  {
   "cell_type": "code",
   "execution_count": 31,
   "metadata": {},
   "outputs": [
    {
     "name": "stdout",
     "output_type": "stream",
     "text": [
      "Prompt for option A:  A kitchen is shown followed by various ingredients and a woman speaking to the camera. She begins showing the ingredients and putting them into a hot boiling pot and stirring around. she shows off the oven and begins assembling the cookies in the oven by pushing a button on the oven.\n",
      "Prompt for option B:  A kitchen is shown followed by various ingredients and a woman speaking to the camera. She begins showing the ingredients and putting them into a hot boiling pot and stirring around. she continues mixing up more ingredients and then puts them all together in a bowl, serving the dish ad sprinkling olive oil around it.\n",
      "Prompt for option C:  A kitchen is shown followed by various ingredients and a woman speaking to the camera. She begins showing the ingredients and putting them into a hot boiling pot and stirring around. she shows raising and lowering the pot until adding more water and corn syrup.\n",
      "Prompt for option D:  A kitchen is shown followed by various ingredients and a woman speaking to the camera. She begins showing the ingredients and putting them into a hot boiling pot and stirring around. she places an omelette onto the screen and puts it in the oven to bake.\n"
     ]
    }
   ],
   "source": [
    "prompt_option_a = base_string + \" \" + option_a\n",
    "prompt_option_b = base_string + \" \" + option_b\n",
    "prompt_option_c = base_string + \" \" + option_c\n",
    "prompt_option_d = base_string + \" \" + option_d\n",
    "print(\"Prompt for option A: \", prompt_option_a)\n",
    "print(\"Prompt for option B: \", prompt_option_b)\n",
    "print(\"Prompt for option C: \", prompt_option_c)\n",
    "print(\"Prompt for option D: \", prompt_option_d)"
   ]
  },
  {
   "cell_type": "code",
   "execution_count": null,
   "metadata": {},
   "outputs": [],
   "source": []
  }
 ],
 "metadata": {
  "kernelspec": {
   "display_name": "Python 3",
   "language": "python",
   "name": "python3"
  },
  "language_info": {
   "codemirror_mode": {
    "name": "ipython",
    "version": 3
   },
   "file_extension": ".py",
   "mimetype": "text/x-python",
   "name": "python",
   "nbconvert_exporter": "python",
   "pygments_lexer": "ipython3",
   "version": "3.12.1"
  }
 },
 "nbformat": 4,
 "nbformat_minor": 2
}
