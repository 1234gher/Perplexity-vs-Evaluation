{
 "cells": [
  {
   "cell_type": "markdown",
   "metadata": {},
   "source": [
    "Reference - See \"Deploy and invoke the model\" section in https://modal.com/docs/examples/vllm_mixtral#download-the-weights"
   ]
  },
  {
   "cell_type": "code",
   "execution_count": 11,
   "metadata": {},
   "outputs": [],
   "source": [
    "import modal"
   ]
  },
  {
   "cell_type": "code",
   "execution_count": 12,
   "metadata": {},
   "outputs": [],
   "source": [
    "# f = modal.Function.lookup(\"aya-23-8B-batch-perplexity-inference\", \"Model.get_perplexity_for_batch\")\n",
    "# f = modal.Function.lookup(\"aya-23-35B-batch-perplexity-inference\", \"Model.get_perplexity_for_batch\")\n",
    "# f = modal.Function.lookup(\"c4ai-command-r-v01-batch-perplexity-inference\", \"Model.get_perplexity_for_batch\")\n",
    "f = modal.Function.lookup(\"c4ai-command-r-plus-batch-perplexity-inference\", \"Model.get_perplexity_for_batch\")"
   ]
  },
  {
   "cell_type": "code",
   "execution_count": 13,
   "metadata": {},
   "outputs": [],
   "source": [
    "hindi_sentences = [\n",
    "    \"आपने क्या खाया?\",\n",
    "    \"वह क्या कर रहा है?\",\n",
    "    \"वह क्या कर रही है?\",\n",
    "    \"वह क्या करता है?\",\n",
    "]\n",
    "\n",
    "japanese_sentences = [\n",
    "    \"こんにちは\",\n",
    "    \"ありがとうございます\",\n",
    "    \"こんにちは、調子はどうですか？\"\n",
    "]"
   ]
  },
  {
   "cell_type": "code",
   "execution_count": 14,
   "metadata": {},
   "outputs": [],
   "source": [
    "# out = f.remote(sentences)\n",
    "\n",
    "hindi_perplexities = []\n",
    "\n",
    "for sentence in hindi_sentences:\n",
    "    out = f.remote([sentence])\n",
    "    hindi_perplexities.append(out)\n",
    "\n",
    "japanese_perplexities = []\n",
    "\n",
    "for sentence in japanese_sentences:\n",
    "    out = f.remote([sentence])\n",
    "    japanese_perplexities.append(out)"
   ]
  },
  {
   "cell_type": "code",
   "execution_count": 15,
   "metadata": {},
   "outputs": [
    {
     "name": "stdout",
     "output_type": "stream",
     "text": [
      "आपने क्या खाया? : 234206.03125\n",
      "वह क्या कर रहा है? : 191330.484375\n",
      "वह क्या कर रही है? : 194834.15625\n",
      "वह क्या करता है? : 98270.2578125\n"
     ]
    }
   ],
   "source": [
    "for sentence, perplexity in zip(hindi_sentences, hindi_perplexities):\n",
    "    print(f\"{sentence} : {perplexity}\")"
   ]
  },
  {
   "cell_type": "code",
   "execution_count": 16,
   "metadata": {},
   "outputs": [
    {
     "name": "stdout",
     "output_type": "stream",
     "text": [
      "こんにちは : 49121.75390625\n",
      "ありがとうございます : 75145.421875\n",
      "こんにちは、調子はどうですか？ : 940868.375\n"
     ]
    }
   ],
   "source": [
    "for sentence, perplexity in zip(japanese_sentences, japanese_perplexities):\n",
    "    print(f\"{sentence} : {perplexity}\")"
   ]
  },
  {
   "cell_type": "markdown",
   "metadata": {},
   "source": [
    "# Benchmark Speed"
   ]
  },
  {
   "cell_type": "code",
   "execution_count": 17,
   "metadata": {},
   "outputs": [],
   "source": [
    "import time\n",
    "\n",
    "ls_run_times = []\n",
    "\n",
    "for i in range(10):\n",
    "    start = time.time()\n",
    "    f.remote([\"एक मॉडल और एक इनपुट टेक्स्ट अनुक्रम को देखते हुए, उलझन यह मापती है कि मॉडल इनपुट टेक्स्ट अनुक्रम उत्पन्न करने की कितनी संभावना रखता है। एक मीट्रिक के रूप में, इसका उपयोग यह मूल्यांकन करने के लिए किया जा सकता है कि मॉडल ने उस पाठ के वितरण को कितनी अच्छी तरह सीखा है जिस पर उसे प्रशिक्षित किया गया था। इस मामले में, model_id मूल्यांकन के लिए प्रशिक्षित मॉडल होना चाहिए, और इनपुट टेक्स्ट वह टेक्स्ट होना चाहिए जिस पर मॉडल को प्रशिक्षित किया गया था।\"])\n",
    "    end = time.time()\n",
    "    ls_run_times.append(end - start)"
   ]
  },
  {
   "cell_type": "code",
   "execution_count": 18,
   "metadata": {},
   "outputs": [
    {
     "name": "stdout",
     "output_type": "stream",
     "text": [
      "44.87969131469727\n"
     ]
    }
   ],
   "source": [
    "# Average run time\n",
    "print(sum(ls_run_times) / len(ls_run_times))"
   ]
  }
 ],
 "metadata": {
  "kernelspec": {
   "display_name": "Python 3",
   "language": "python",
   "name": "python3"
  },
  "language_info": {
   "codemirror_mode": {
    "name": "ipython",
    "version": 3
   },
   "file_extension": ".py",
   "mimetype": "text/x-python",
   "name": "python",
   "nbconvert_exporter": "python",
   "pygments_lexer": "ipython3",
   "version": "3.12.1"
  }
 },
 "nbformat": 4,
 "nbformat_minor": 2
}
