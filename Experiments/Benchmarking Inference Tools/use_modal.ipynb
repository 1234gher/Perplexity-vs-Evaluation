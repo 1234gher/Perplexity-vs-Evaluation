{
 "cells": [
  {
   "cell_type": "markdown",
   "metadata": {},
   "source": [
    "Reference - See \"Deploy and invoke the model\" section in https://modal.com/docs/examples/vllm_mixtral#download-the-weights"
   ]
  },
  {
   "cell_type": "code",
   "execution_count": 1,
   "metadata": {},
   "outputs": [],
   "source": [
    "import modal"
   ]
  },
  {
   "cell_type": "code",
   "execution_count": 2,
   "metadata": {},
   "outputs": [],
   "source": [
    "f = modal.Function.lookup(\"aya-23-8B-batch-perplexity-inference\", \"Model.get_perplexity_for_batch\")"
   ]
  },
  {
   "cell_type": "code",
   "execution_count": 26,
   "metadata": {},
   "outputs": [],
   "source": [
    "hindi_sentences = [\n",
    "    \"आपने क्या खाया?\",\n",
    "    \"वह क्या कर रहा है?\",\n",
    "    \"वह क्या कर रही है?\",\n",
    "    \"वह क्या करता है?\",\n",
    "]\n",
    "\n",
    "japanese_sentences = [\n",
    "    \"こんにちは\",\n",
    "    \"ありがとうございます\",\n",
    "    \"こんにちは、調子はどうですか？\"\n",
    "]"
   ]
  },
  {
   "cell_type": "code",
   "execution_count": 27,
   "metadata": {},
   "outputs": [],
   "source": [
    "hindi_perplexities = []\n",
    "\n",
    "for sentence in hindi_sentences:\n",
    "    out = f.remote([sentence])\n",
    "    hindi_perplexities.append(out)\n",
    "\n",
    "japanese_perplexities = []\n",
    "\n",
    "for sentence in japanese_sentences:\n",
    "    out = f.remote([sentence])\n",
    "    japanese_perplexities.append(out)"
   ]
  },
  {
   "cell_type": "code",
   "execution_count": 28,
   "metadata": {},
   "outputs": [
    {
     "name": "stdout",
     "output_type": "stream",
     "text": [
      "आपने क्या खाया?: 6.293275833129883\n",
      "वह क्या कर रहा है?: 8.9815034866333\n",
      "वह क्या कर रही है?: 10.175040245056152\n",
      "वह क्या करता है?: 11.41016960144043\n"
     ]
    }
   ],
   "source": [
    "for sentence, perplexity in zip(hindi_sentences, hindi_perplexities):\n",
    "    print(f\"{sentence}: {perplexity}\")"
   ]
  },
  {
   "cell_type": "code",
   "execution_count": 29,
   "metadata": {},
   "outputs": [
    {
     "name": "stdout",
     "output_type": "stream",
     "text": [
      "こんにちは: 28.157564163208008\n",
      "ありがとうございます: 16.73956298828125\n",
      "こんにちは、調子はどうですか？: 16.767736434936523\n"
     ]
    }
   ],
   "source": [
    "for sentence, perplexity in zip(japanese_sentences, japanese_perplexities):\n",
    "    print(f\"{sentence}: {perplexity}\")"
   ]
  }
 ],
 "metadata": {
  "kernelspec": {
   "display_name": "Python 3",
   "language": "python",
   "name": "python3"
  },
  "language_info": {
   "codemirror_mode": {
    "name": "ipython",
    "version": 3
   },
   "file_extension": ".py",
   "mimetype": "text/x-python",
   "name": "python",
   "nbconvert_exporter": "python",
   "pygments_lexer": "ipython3",
   "version": "3.12.1"
  }
 },
 "nbformat": 4,
 "nbformat_minor": 2
}
