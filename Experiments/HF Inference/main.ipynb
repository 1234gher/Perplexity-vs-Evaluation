{
 "cells": [
  {
   "cell_type": "markdown",
   "metadata": {},
   "source": [
    "## This Notebook is intended to quickly run some sanity checks for the Aya 23 Models \n",
    "(I'll use the 8B and hope results extend to the larger one)"
   ]
  },
  {
   "cell_type": "code",
   "execution_count": 4,
   "metadata": {},
   "outputs": [],
   "source": [
    "model_path = '/NS/llm-1/nobackup/afkhan/Model_Saves/aya-23-8B'"
   ]
  },
  {
   "cell_type": "code",
   "execution_count": 5,
   "metadata": {},
   "outputs": [],
   "source": [
    "# Set CUDA visible devices to GPU 1\n",
    "import os\n",
    "os.environ[\"CUDA_VISIBLE_DEVICES\"] = \"1\""
   ]
  },
  {
   "cell_type": "code",
   "execution_count": 6,
   "metadata": {},
   "outputs": [
    {
     "name": "stderr",
     "output_type": "stream",
     "text": [
      "Special tokens have been added in the vocabulary, make sure the associated word embeddings are fine-tuned or trained.\n",
      "Loading checkpoint shards: 100%|██████████| 4/4 [02:10<00:00, 32.57s/it]\n"
     ]
    }
   ],
   "source": [
    "from transformers import AutoTokenizer, AutoModelForCausalLM\n",
    "\n",
    "tokenizer = AutoTokenizer.from_pretrained(model_path)\n",
    "model = AutoModelForCausalLM.from_pretrained(model_path)"
   ]
  },
  {
   "cell_type": "code",
   "execution_count": 8,
   "metadata": {},
   "outputs": [
    {
     "data": {
      "text/plain": [
       "CohereForCausalLM(\n",
       "  (model): CohereModel(\n",
       "    (embed_tokens): Embedding(256000, 4096, padding_idx=0)\n",
       "    (layers): ModuleList(\n",
       "      (0-31): 32 x CohereDecoderLayer(\n",
       "        (self_attn): CohereSdpaAttention(\n",
       "          (q_proj): Linear(in_features=4096, out_features=4096, bias=False)\n",
       "          (k_proj): Linear(in_features=4096, out_features=1024, bias=False)\n",
       "          (v_proj): Linear(in_features=4096, out_features=1024, bias=False)\n",
       "          (o_proj): Linear(in_features=4096, out_features=4096, bias=False)\n",
       "          (rotary_emb): CohereRotaryEmbedding()\n",
       "        )\n",
       "        (mlp): CohereMLP(\n",
       "          (gate_proj): Linear(in_features=4096, out_features=14336, bias=False)\n",
       "          (up_proj): Linear(in_features=4096, out_features=14336, bias=False)\n",
       "          (down_proj): Linear(in_features=14336, out_features=4096, bias=False)\n",
       "          (act_fn): SiLU()\n",
       "        )\n",
       "        (input_layernorm): CohereLayerNorm()\n",
       "      )\n",
       "    )\n",
       "    (norm): CohereLayerNorm()\n",
       "  )\n",
       "  (lm_head): Linear(in_features=4096, out_features=256000, bias=False)\n",
       ")"
      ]
     },
     "execution_count": 8,
     "metadata": {},
     "output_type": "execute_result"
    }
   ],
   "source": [
    "device = 'cuda' \n",
    "\n",
    "model.to(device)"
   ]
  },
  {
   "cell_type": "code",
   "execution_count": 10,
   "metadata": {},
   "outputs": [
    {
     "name": "stdout",
     "output_type": "stream",
     "text": [
      "Sun Aug  4 07:50:03 2024       \n",
      "+-----------------------------------------------------------------------------------------+\n",
      "| NVIDIA-SMI 550.54.14              Driver Version: 550.54.14      CUDA Version: 12.4     |\n",
      "|-----------------------------------------+------------------------+----------------------+\n",
      "| GPU  Name                 Persistence-M | Bus-Id          Disp.A | Volatile Uncorr. ECC |\n",
      "| Fan  Temp   Perf          Pwr:Usage/Cap |           Memory-Usage | GPU-Util  Compute M. |\n",
      "|                                         |                        |               MIG M. |\n",
      "|=========================================+========================+======================|\n",
      "|   0  NVIDIA H100 PCIe               On  |   00000000:17:00.0 Off |                    0 |\n",
      "| N/A   35C    P0             73W /  310W |       0MiB /  81559MiB |      0%      Default |\n",
      "|                                         |                        |             Disabled |\n",
      "+-----------------------------------------+------------------------+----------------------+\n",
      "|   1  NVIDIA H100 PCIe               On  |   00000000:CA:00.0 Off |                    0 |\n",
      "| N/A   28C    P0             43W /  310W |   31083MiB /  81559MiB |      0%      Default |\n",
      "|                                         |                        |             Disabled |\n",
      "+-----------------------------------------+------------------------+----------------------+\n",
      "                                                                                         \n",
      "+-----------------------------------------------------------------------------------------+\n",
      "| Processes:                                                                              |\n",
      "|  GPU   GI   CI        PID   Type   Process name                              GPU Memory |\n",
      "|        ID   ID                                                               Usage      |\n",
      "|=========================================================================================|\n",
      "|    1   N/A  N/A   2618655      C   .../anaconda3/envs/fsdp_env/bin/python      31074MiB |\n",
      "+-----------------------------------------------------------------------------------------+\n"
     ]
    }
   ],
   "source": [
    "!nvidia-smi"
   ]
  },
  {
   "cell_type": "markdown",
   "metadata": {},
   "source": [
    "### Effect of Chat Template"
   ]
  },
  {
   "cell_type": "code",
   "execution_count": 17,
   "metadata": {},
   "outputs": [
    {
     "name": "stdout",
     "output_type": "stream",
     "text": [
      "<BOS_TOKEN><|START_OF_TURN_TOKEN|><|USER_TOKEN|>गति कैसे परिभाषित की जाती है?<|END_OF_TURN_TOKEN|><|START_OF_TURN_TOKEN|><|CHATBOT_TOKEN|>गति को आमतौर पर किसी वस्तु की स्थानिक बदलाव की दर के रूप में परिभाषित किया जाता है, जिसे आमतौर पर \"दूरी के अनुसार समय\" के रूप में व्यक्त किया जाता है। यह एक वस्तु के स्थान में परिवर्तन की दर को दर्शाता है, चाहे वह स्थिर हो या स्थानांतरित हो।\n",
      "\n",
      "गति की गणना करने का एक सामान्य तरीका है मीटर प्रति सेकंड (मी/सेकंड) में व्यक्त की जाने वाली दूरी को समय के अनुसार विभाजित करना। यह सूत्र है:\n",
      "\n",
      "गति = दूरी / समय\n",
      "\n",
      "उदाहरण के लिए, यदि एक कार 100 मीटर की दूरी तय करती है और 20 सेकंड में ऐसा करती है, तो इसकी गति 100 मीटर / 20 सेकंड = 5 मीटर प्रति सेकंड होगी।\n",
      "\n",
      "हालाँकि, गति को अक्सर किलोमीटर प्रति घंटा (किमी / घंटा) या मील प्रति घंटा (मील / घंटा) जैसे अन्य इकाइयों में भी व्यक्त किया जा सकता है, विशेष रूप से सड़क यातायात के संदर्भ में। ये इकाइयाँ 1 घंटे में समय के बजाय\n"
     ]
    }
   ],
   "source": [
    "# With Template\n",
    "\n",
    "# Format message with the command-r-plus chat template\n",
    "messages = [{\"role\": \"user\", \"content\": \"गति कैसे परिभाषित की जाती है?\"}]\n",
    "input_ids = tokenizer.apply_chat_template(messages, tokenize=True, add_generation_prompt=True, return_tensors=\"pt\")\n",
    "\n",
    "## <BOS_TOKEN><|START_OF_TURN_TOKEN|><|USER_TOKEN|>गति कैसे परिभाषित की जाती है?<|END_OF_TURN_TOKEN|><|START_OF_TURN_TOKEN|><|CHATBOT_TOKEN|>\n",
    "\n",
    "input_ids = input_ids.to(device)\n",
    "\n",
    "gen_tokens = model.generate(\n",
    "    input_ids, \n",
    "    max_new_tokens=500, \n",
    "    do_sample=True, \n",
    "    temperature=0.3,\n",
    "    )\n",
    "\n",
    "gen_text = tokenizer.decode(gen_tokens[0])\n",
    "print(gen_text)"
   ]
  },
  {
   "cell_type": "code",
   "execution_count": 21,
   "metadata": {},
   "outputs": [
    {
     "name": "stdout",
     "output_type": "stream",
     "text": [
      "<BOS_TOKEN><|START_OF_TURN_TOKEN|><|USER_TOKEN|>What is the definition of velocity?<|END_OF_TURN_TOKEN|><|START_OF_TURN_TOKEN|><|CHATBOT_TOKEN|>Velocity is the rate of change of velocity with respect to time. It is a vector quantity, which means that it has both magnitude and direction. The SI unit of velocity is meters per second (m/s).<|END_OF_TURN_TOKEN|>\n"
     ]
    }
   ],
   "source": [
    "# With Template\n",
    "\n",
    "# Format message with the command-r-plus chat template\n",
    "messages = [{\"role\": \"user\", \"content\": \"What is the definition of velocity?\"}]\n",
    "input_ids = tokenizer.apply_chat_template(messages, tokenize=True, add_generation_prompt=True, return_tensors=\"pt\")\n",
    "\n",
    "## <BOS_TOKEN><|START_OF_TURN_TOKEN|><|USER_TOKEN|>What is the definition of velocity?<|END_OF_TURN_TOKEN|><|START_OF_TURN_TOKEN|><|CHATBOT_TOKEN|>\n",
    "\n",
    "input_ids = input_ids.to(device)\n",
    "\n",
    "gen_tokens = model.generate(\n",
    "    input_ids, \n",
    "    max_new_tokens=500, \n",
    "    do_sample=True, \n",
    "    temperature=0.3,\n",
    "    )\n",
    "\n",
    "gen_text = tokenizer.decode(gen_tokens[0])\n",
    "print(gen_text)"
   ]
  },
  {
   "cell_type": "code",
   "execution_count": 20,
   "metadata": {},
   "outputs": [
    {
     "name": "stdout",
     "output_type": "stream",
     "text": [
      "<BOS_TOKEN>गति कैसे परिभाषित की जाती है? »\n",
      "क्या होता है जब हम किसी चीज़ को देखते हैं? »\n",
      "क्या होता है जब हम किसी चीज़ को सुनते हैं? »\n",
      "क्या होता है जब हम किसी चीज़ को छूते हैं? »\n",
      "क्या होता है जब हम किसी चीज़ को सूँघते हैं? »\n",
      "क्या होता है जब हम किसी चीज़ को चखकर खाते हैं? »\n",
      "क्या होता है जब हम किसी चीज़ को स्पर्श करते हैं? »\n",
      "क्या होता है जब हम किसी चीज़ को सुनाते हैं? »\n",
      "क्या होता है जब हम किसी चीज़ को छूते हैं? »\n",
      "क्या होता है जब हम किसी चीज़ को सूँघते हैं? »\n",
      "क्या होता है जब हम किसी चीज़ को चखकर खाते हैं? »\n",
      "क्या होता है जब हम किसी चीज़ को स्पर्श करते हैं? »\n",
      "क्या होता है जब हम किसी चीज़ को सुनाते हैं? »\n",
      "क्या होता है जब हम किसी चीज़ को छूते हैं? »\n",
      "क्या होता है जब हम किसी चीज़ को सूँघते हैं? »\n",
      "क्या होता है जब हम किसी चीज़ को चखकर खाते हैं? »\n",
      "क्या होता है जब\n"
     ]
    }
   ],
   "source": [
    "# Without Template\n",
    "\n",
    "message = \"गति कैसे परिभाषित की जाती है?\"\n",
    "\n",
    "input_ids = tokenizer.encode(message, return_tensors=\"pt\")\n",
    "\n",
    "input_ids = input_ids.to(device)\n",
    "\n",
    "gen_tokens = model.generate(\n",
    "    input_ids, \n",
    "    max_new_tokens=500, \n",
    "    do_sample=True, \n",
    "    temperature=0.3,\n",
    "    )\n",
    "\n",
    "gen_text = tokenizer.decode(gen_tokens[0])\n",
    "\n",
    "print(gen_text)"
   ]
  },
  {
   "cell_type": "code",
   "execution_count": 22,
   "metadata": {},
   "outputs": [
    {
     "name": "stdout",
     "output_type": "stream",
     "text": [
      "<BOS_TOKEN>What is the definition of velocity?\n",
      "Velocity is the rate of change of position of an object with respect to time.\n",
      "What is the definition of acceleration?\n",
      "Acceleration is the rate of change of velocity with respect to time.\n",
      "What is the definition of a vector?\n",
      "A vector is a quantity that has both magnitude and direction.\n",
      "What is the definition of a scalar?\n",
      "A scalar is a quantity that has only magnitude.\n",
      "What is the definition of a unit vector?\n",
      "A unit vector is a vector with a magnitude of 1.\n",
      "What is the definition of a force?\n",
      "A force is a push or pull on an object.\n",
      "What is the definition of a torque?\n",
      "A torque is a force that acts at a distance from a point of rotation.\n",
      "What is the definition of a moment?\n",
      "A moment is the product of a force and a distance.\n",
      "What is the definition of a moment of inertia?\n",
      "A moment of inertia is the product of a moment and a mass.\n",
      "What is the definition of a moment of force?\n",
      "A moment of force is the product of a moment and a torque.\n",
      "What is the definition of a moment of acceleration?\n",
      "A moment of acceleration is the product of a moment and an acceleration.\n",
      "What is the definition of a moment of velocity?\n",
      "A moment of velocity is the product of a moment and a velocity.\n",
      "What is the definition of a moment of acceleration?\n",
      "A moment of acceleration is the product of a moment and an acceleration.\n",
      "What is the definition of a moment of velocity?\n",
      "What is the definition of a moment of acceleration?\n",
      "What is the definition of a moment of acceleration?\n",
      "What is the definition of a moment of velocity?\n",
      "What is the definition of a moment?\n",
      "What is the definition of a moment?\n",
      "What is the definition of a moment?\n",
      "What is the definition of a moment?\n",
      "What is the definition of a moment?\n",
      "What is the definition of a moment?\n",
      "What is the definition of a moment?\n",
      "What is the definition of a moment?\n",
      "What is the definition of a moment?\n",
      "What is the definition of a moment?\n",
      "What is the definition of a moment?\n",
      "What is the definition of a moment?\n",
      "What is the definition of a moment?\n",
      "What is the definition of a moment?\n",
      "What is the definition of a moment?\n",
      "What is the definition of a moment?\n",
      "What is the definition of a moment\n"
     ]
    }
   ],
   "source": [
    "# Without Template\n",
    "\n",
    "message = \"What is the definition of velocity?\"\n",
    "\n",
    "input_ids = tokenizer.encode(message, return_tensors=\"pt\")\n",
    "\n",
    "input_ids = input_ids.to(device)\n",
    "\n",
    "gen_tokens = model.generate(\n",
    "    input_ids, \n",
    "    max_new_tokens=500, \n",
    "    do_sample=True, \n",
    "    temperature=0.3,\n",
    "    )\n",
    "\n",
    "gen_text = tokenizer.decode(gen_tokens[0])\n",
    "\n",
    "print(gen_text)"
   ]
  }
 ],
 "metadata": {
  "kernelspec": {
   "display_name": "fsdp_env",
   "language": "python",
   "name": "python3"
  },
  "language_info": {
   "codemirror_mode": {
    "name": "ipython",
    "version": 3
   },
   "file_extension": ".py",
   "mimetype": "text/x-python",
   "name": "python",
   "nbconvert_exporter": "python",
   "pygments_lexer": "ipython3",
   "version": "3.10.14"
  }
 },
 "nbformat": 4,
 "nbformat_minor": 2
}
