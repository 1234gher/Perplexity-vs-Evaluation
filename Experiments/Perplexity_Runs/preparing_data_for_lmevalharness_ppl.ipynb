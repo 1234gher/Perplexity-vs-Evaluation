{
 "cells": [
  {
   "cell_type": "code",
   "execution_count": 9,
   "metadata": {},
   "outputs": [],
   "source": [
    "import pandas as pd\n",
    "import json\n",
    "import os"
   ]
  },
  {
   "cell_type": "code",
   "execution_count": 12,
   "metadata": {},
   "outputs": [],
   "source": [
    "path_template = '/NS/llm-1/work/afkhan/Perplexity-vs-Evaluation/Experiments/LMEvalHarness_Runs/benchmarks_samples/hellaswag_okapi_template/'\n",
    "path_no_template = '/NS/llm-1/work/afkhan/Perplexity-vs-Evaluation/Experiments/LMEvalHarness_Runs/benchmarks_samples/hellaswag_okapi_no_template/'\n",
    "\n",
    "files_template = os.listdir(path_template)\n",
    "files_no_template = os.listdir(path_no_template)"
   ]
  },
  {
   "cell_type": "code",
   "execution_count": 14,
   "metadata": {},
   "outputs": [
    {
     "data": {
      "text/plain": [
       "(31, 31)"
      ]
     },
     "execution_count": 14,
     "metadata": {},
     "output_type": "execute_result"
    }
   ],
   "source": [
    "len(files_template), len(files_no_template)"
   ]
  },
  {
   "cell_type": "code",
   "execution_count": 17,
   "metadata": {},
   "outputs": [],
   "source": [
    "# Save in JSONL with text as key\n",
    "\n",
    "def create_jsonl(strings_to_process, path):\n",
    "    lines = []\n",
    "    for string in strings_to_process:\n",
    "        lines.append({'text': string})\n",
    "    with open(path, 'w') as f:\n",
    "        for line in lines:\n",
    "            f.write(json.dumps(line) + '\\n')"
   ]
  },
  {
   "cell_type": "code",
   "execution_count": 18,
   "metadata": {},
   "outputs": [],
   "source": [
    "path = 'Data/'"
   ]
  },
  {
   "cell_type": "code",
   "execution_count": 19,
   "metadata": {},
   "outputs": [],
   "source": [
    "for file in files_no_template:\n",
    "    df_no_template = pd.read_feather(path_no_template + file)\n",
    "    strings_to_process_template = df_no_template['gen_args_0.arg_0'].to_list()\n",
    "    file_name = file.removesuffix('.feather')\n",
    "    create_jsonl(strings_to_process_template, path + file_name + '_no_template.jsonl')"
   ]
  },
  {
   "cell_type": "code",
   "execution_count": 20,
   "metadata": {},
   "outputs": [],
   "source": [
    "for file in files_template:\n",
    "    df_template = pd.read_feather(path_template + file)\n",
    "    strings_to_process_template = df_template['gen_args_0.arg_0'].to_list()\n",
    "    file_name = file.removesuffix('.feather')\n",
    "    create_jsonl(strings_to_process_template, path + file_name + '_template.jsonl')"
   ]
  }
 ],
 "metadata": {
  "kernelspec": {
   "display_name": "ragenv",
   "language": "python",
   "name": "python3"
  },
  "language_info": {
   "codemirror_mode": {
    "name": "ipython",
    "version": 3
   },
   "file_extension": ".py",
   "mimetype": "text/x-python",
   "name": "python",
   "nbconvert_exporter": "python",
   "pygments_lexer": "ipython3",
   "version": "3.10.14"
  }
 },
 "nbformat": 4,
 "nbformat_minor": 2
}
