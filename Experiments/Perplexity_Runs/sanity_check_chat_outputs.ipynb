{
 "cells": [
  {
   "cell_type": "code",
   "execution_count": 100,
   "metadata": {},
   "outputs": [],
   "source": [
    "import os\n",
    "import json"
   ]
  },
  {
   "cell_type": "code",
   "execution_count": 101,
   "metadata": {},
   "outputs": [],
   "source": [
    "def read_jsonl_file(file_path):\n",
    "    with open(file_path, 'r') as file:\n",
    "        return [json.loads(line) for line in file]"
   ]
  },
  {
   "cell_type": "code",
   "execution_count": 102,
   "metadata": {},
   "outputs": [],
   "source": [
    "custom_path = '/NS/llm-1/work/afkhan/Perplexity-vs-Evaluation/Experiments/Perplexity_Runs/aya_23_8b_chat_ppl_hellaswag_with_okapi_with_template/__NS__llm-1__nobackup__afkhan__Model_Saves__aya-23-8B/samples_hellaswag_ar_chat_ppl_2024-08-08T13-31-00.163973.jsonl'"
   ]
  },
  {
   "cell_type": "code",
   "execution_count": 103,
   "metadata": {},
   "outputs": [],
   "source": [
    "jsonl_data = read_jsonl_file(custom_path)"
   ]
  },
  {
   "cell_type": "code",
   "execution_count": 104,
   "metadata": {},
   "outputs": [],
   "source": [
    "template_strs_auto = []\n",
    "for i in jsonl_data:\n",
    "    template_strs_auto.append(i['target'])"
   ]
  },
  {
   "cell_type": "code",
   "execution_count": 105,
   "metadata": {},
   "outputs": [],
   "source": [
    "old_data_path = '/NS/llm-1/work/afkhan/Perplexity-vs-Evaluation/Experiments/LMEvalHarness_Runs/aya-23-35B-hellaswag_with_okapi_with_template/aya-23-35B/samples_hellaswag_ar_2024-08-06T07-40-36.390030.jsonl'"
   ]
  },
  {
   "cell_type": "code",
   "execution_count": 106,
   "metadata": {},
   "outputs": [],
   "source": [
    "jsonl_old_data = read_jsonl_file(old_data_path)"
   ]
  },
  {
   "cell_type": "code",
   "execution_count": 107,
   "metadata": {},
   "outputs": [],
   "source": [
    "old_data_strs = []\n",
    "for i in jsonl_old_data:\n",
    "    old_data_strs.append(i['arguments']['gen_args_0']['arg_0'])"
   ]
  },
  {
   "cell_type": "code",
   "execution_count": 108,
   "metadata": {},
   "outputs": [],
   "source": [
    "# Check both match\n",
    "\n",
    "matched = 0\n",
    "for i, j in zip(template_strs_auto, old_data_strs):\n",
    "    if i != j:\n",
    "        print(i)\n",
    "        print(j)\n",
    "        print('-------------------')\n",
    "    else:\n",
    "        matched += 1"
   ]
  },
  {
   "cell_type": "code",
   "execution_count": 15,
   "metadata": {},
   "outputs": [
    {
     "name": "stdout",
     "output_type": "stream",
     "text": [
      "Matched: 0.9993461203138623\n"
     ]
    }
   ],
   "source": [
    "print(f'Matched: {matched/len(template_strs_auto)}')"
   ]
  },
  {
   "cell_type": "code",
   "execution_count": 16,
   "metadata": {},
   "outputs": [
    {
     "data": {
      "text/plain": [
       "(9176, 9176)"
      ]
     },
     "execution_count": 16,
     "metadata": {},
     "output_type": "execute_result"
    }
   ],
   "source": [
    "len(template_strs_auto), len(old_data_strs)"
   ]
  },
  {
   "cell_type": "code",
   "execution_count": 22,
   "metadata": {},
   "outputs": [],
   "source": [
    "from transformers import AutoTokenizer\n",
    "\n",
    "checkpoint = \"/NS/llm-1/nobackup/afkhan/Model_Saves/aya-23-8B\"\n",
    "tokenizer = AutoTokenizer.from_pretrained(checkpoint)\n",
    "\n",
    "res = 'Finance and Business: التأكد من ذلك مع محام. إذا كنت تكتب نموذج إيجار سكني جديد من الصفر ، فقد يكون من المفيد العمل مع محام. سيتعين توفير بعض أحكام الإيجار بموجب قوانين دولتك ، في حين أن بعض الأحكام التي يلزم توفيرها في دولة واحدة قد تكون غير قانونية في دولة أخرى.'\n",
    "\n",
    "messages = [\n",
    "    {\"role\": \"user\", \"content\": res},\n",
    " ]\n",
    "tokenized_chat = tokenizer.apply_chat_template(messages, tokenize=True, add_generation_prompt=True, return_tensors=\"pt\")"
   ]
  },
  {
   "cell_type": "code",
   "execution_count": 23,
   "metadata": {},
   "outputs": [
    {
     "name": "stdout",
     "output_type": "stream",
     "text": [
      "<BOS_TOKEN><|START_OF_TURN_TOKEN|><|USER_TOKEN|>Finance and Business: التأكد من ذلك مع محام. إذا كنت تكتب نموذج إيجار سكني جديد من الصفر ، فقد يكون من المفيد العمل مع محام. سيتعين توفير بعض أحكام الإيجار بموجب قوانين دولتك ، في حين أن بعض الأحكام التي يلزم توفيرها في دولة واحدة قد تكون غير قانونية في دولة أخرى.<|END_OF_TURN_TOKEN|><|START_OF_TURN_TOKEN|><|CHATBOT_TOKEN|>\n"
     ]
    }
   ],
   "source": [
    "print(tokenizer.decode(tokenized_chat[0]))"
   ]
  },
  {
   "cell_type": "markdown",
   "metadata": {},
   "source": [
    "# Check Template Function"
   ]
  },
  {
   "cell_type": "code",
   "execution_count": 24,
   "metadata": {},
   "outputs": [],
   "source": [
    "def apply_aya_chat_template(doc):\n",
    "    base_str = doc[\"text\"]\n",
    "    # Example Output for Aya Tokenizer - <BOS_TOKEN><|START_OF_TURN_TOKEN|><|USER_TOKEN|>Roof shingle removal: A man is sitting on a roof. He<|END_OF_TURN_TOKEN|><|START_OF_TURN_TOKEN|><|CHATBOT_TOKEN|>\n",
    "    template_applied_str = \"<BOS_TOKEN><|START_OF_TURN_TOKEN|><|USER_TOKEN|>\" + base_str.strip() + \"<|END_OF_TURN_TOKEN|><|START_OF_TURN_TOKEN|><|CHATBOT_TOKEN|>\"\n",
    "    return template_applied_str"
   ]
  },
  {
   "cell_type": "code",
   "execution_count": 95,
   "metadata": {},
   "outputs": [],
   "source": [
    "def apply_aya_chat_template_no_doc(doc):\n",
    "    base_str = doc\n",
    "    # Example Output for Aya Tokenizer - <BOS_TOKEN><|START_OF_TURN_TOKEN|><|USER_TOKEN|>Roof shingle removal: A man is sitting on a roof. He<|END_OF_TURN_TOKEN|><|START_OF_TURN_TOKEN|><|CHATBOT_TOKEN|>\n",
    "    template_applied_str = \"<BOS_TOKEN><|START_OF_TURN_TOKEN|><|USER_TOKEN|>\" + base_str.strip() + \"<|END_OF_TURN_TOKEN|><|START_OF_TURN_TOKEN|><|CHATBOT_TOKEN|>\"\n",
    "    return template_applied_str"
   ]
  },
  {
   "cell_type": "code",
   "execution_count": 96,
   "metadata": {},
   "outputs": [],
   "source": [
    "all_files_no_template_path = '/NS/llm-1/work/afkhan/Perplexity-vs-Evaluation/Experiments/LMEvalHarness_Runs/aya-23-8b-hellaswag_with_okapi_without_template/aya-23-8B/'\n",
    "all_files_template_path = '/NS/llm-1/work/afkhan/Perplexity-vs-Evaluation/Experiments/LMEvalHarness_Runs/aya-23-8b-hellaswag_with_okapi_with_template/aya-23-8B/'"
   ]
  },
  {
   "cell_type": "code",
   "execution_count": 97,
   "metadata": {},
   "outputs": [
    {
     "name": "stdout",
     "output_type": "stream",
     "text": [
      "samples_hellaswag_2024-08-04T14-52-52.186900.jsonl samples_hellaswag_2024-08-04T22-30-16.191215.jsonl\n"
     ]
    }
   ],
   "source": [
    "all_files_no_template = os.listdir(all_files_no_template_path)\n",
    "all_files_template = os.listdir(all_files_template_path)\n",
    "\n",
    "# sort \n",
    "all_files_no_template.sort()\n",
    "all_files_template.sort()\n",
    "\n",
    "# remove first file from both\n",
    "all_files_no_template = all_files_no_template[1:]\n",
    "all_files_template = all_files_template[1:]\n",
    "\n",
    "print(all_files_no_template[0], all_files_template[0])"
   ]
  },
  {
   "cell_type": "code",
   "execution_count": 98,
   "metadata": {},
   "outputs": [],
   "source": [
    "def parse_file(file_path):\n",
    "    jsonl_data = read_jsonl_file(file_path)\n",
    "    template_strs_auto = []\n",
    "    for i in jsonl_data:\n",
    "        template_strs_auto.append(i['arguments']['gen_args_0']['arg_0'])\n",
    "    return template_strs_auto"
   ]
  },
  {
   "cell_type": "code",
   "execution_count": 99,
   "metadata": {},
   "outputs": [
    {
     "name": "stdout",
     "output_type": "stream",
     "text": [
      "No Match: 0.0\n",
      "No Match: 0.0\n",
      "No Match: 0.0\n",
      "No Match: 0.0\n",
      "No Match: 0.0\n",
      "No Match: 0.0\n",
      "No Match: 0.0\n",
      "No Match: 0.0\n",
      "No Match: 0.0\n",
      "No Match: 0.0\n",
      "No Match: 0.0\n",
      "No Match: 0.0\n",
      "No Match: 0.0\n",
      "No Match: 0.0\n",
      "No Match: 0.0\n",
      "No Match: 0.0\n",
      "No Match: 0.0\n",
      "No Match: 0.0\n",
      "No Match: 0.0\n",
      "No Match: 0.0\n",
      "No Match: 0.0\n",
      "No Match: 0.0\n",
      "No Match: 0.0\n",
      "No Match: 0.0\n",
      "No Match: 0.0\n",
      "No Match: 0.0\n",
      "No Match: 0.0\n",
      "No Match: 0.0\n",
      "No Match: 0.0\n",
      "No Match: 0.0\n",
      "No Match: 0.0\n"
     ]
    }
   ],
   "source": [
    "for file_no_template, file_template in zip(all_files_no_template, all_files_template):\n",
    "    file_no_template_path = os.path.join(all_files_no_template_path, file_no_template)\n",
    "    file_template_path = os.path.join(all_files_template_path, file_template)\n",
    "\n",
    "    files_no_template = read_jsonl_file(file_no_template_path)\n",
    "    files_template = read_jsonl_file(file_template_path)\n",
    "\n",
    "    files_no_template_strs = []\n",
    "    file_template_strs = []\n",
    "    for i in files_no_template:\n",
    "        files_no_template_strs.append(i['arguments']['gen_args_0']['arg_0'])\n",
    "\n",
    "    for i in files_template:\n",
    "        file_template_strs.append(i['arguments']['gen_args_0']['arg_0'])\n",
    "    \n",
    "    no_match = 0\n",
    "    for template_no, template_yes in zip(files_no_template_strs, file_template_strs):\n",
    "        chat_template_no = apply_aya_chat_template_no_doc(template_no)\n",
    "        if chat_template_no != template_yes:\n",
    "            print(chat_template_no)\n",
    "            print(template_yes)\n",
    "            print('-------------------')\n",
    "            no_match += 1\n",
    "\n",
    "    print(f'No Match: {no_match/len(files_no_template_strs)}')"
   ]
  },
  {
   "cell_type": "code",
   "execution_count": 67,
   "metadata": {},
   "outputs": [],
   "source": [
    "all_f1 = parse_file(all_files_no_template_path + all_files_no_template[1])"
   ]
  },
  {
   "cell_type": "code",
   "execution_count": 68,
   "metadata": {},
   "outputs": [],
   "source": [
    "all_f2 = parse_file(all_files_template_path + all_files_template[1])"
   ]
  },
  {
   "cell_type": "code",
   "execution_count": 71,
   "metadata": {},
   "outputs": [],
   "source": [
    "for f1, f2 in zip(all_f1, all_f2):\n",
    "    chat_f1 = apply_aya_chat_template({\"text\": f1})\n",
    "    if chat_f1 != f2:\n",
    "        print(chat_f1)\n",
    "        print(f2)\n",
    "        print('-------------------')"
   ]
  },
  {
   "cell_type": "code",
   "execution_count": 87,
   "metadata": {},
   "outputs": [],
   "source": [
    "import json"
   ]
  },
  {
   "cell_type": "code",
   "execution_count": 88,
   "metadata": {},
   "outputs": [],
   "source": [
    "ar_val = '/NS/llm-1/work/afkhan/Perplexity-vs-Evaluation/Experiments/Perplexity_Runs/ar_validation.json'"
   ]
  },
  {
   "cell_type": "code",
   "execution_count": 89,
   "metadata": {},
   "outputs": [],
   "source": [
    "# read json\n",
    "with open(ar_val, 'r') as file:\n",
    "    ar_val_data = json.load(file)"
   ]
  },
  {
   "cell_type": "code",
   "execution_count": 93,
   "metadata": {},
   "outputs": [],
   "source": [
    "ct = 'تكون غير قانونية في دولة أخرى'"
   ]
  },
  {
   "cell_type": "code",
   "execution_count": 94,
   "metadata": {},
   "outputs": [
    {
     "name": "stdout",
     "output_type": "stream",
     "text": [
      "[العنوان] التأكد من ذلك مع محام. [خطوة] إذا كنت تكتب نموذج إيجار سكني جديد من الصفر ، فقد يكون من المفيد العمل مع محام. سيتعين توفير بعض أحكام الإيجار بموجب قوانين دولتك ، في حين أن بعض الأحكام التي يلزم توفيرها في دولة واحدة قد تكون غير قانونية في دولة أخرى. [الترويسة]\n"
     ]
    }
   ],
   "source": [
    "for i in ar_val_data:\n",
    "    if ct in i['ctx']:\n",
    "        print(i['ctx'])"
   ]
  },
  {
   "cell_type": "code",
   "execution_count": null,
   "metadata": {},
   "outputs": [],
   "source": []
  }
 ],
 "metadata": {
  "kernelspec": {
   "display_name": "ragenv",
   "language": "python",
   "name": "python3"
  },
  "language_info": {
   "codemirror_mode": {
    "name": "ipython",
    "version": 3
   },
   "file_extension": ".py",
   "mimetype": "text/x-python",
   "name": "python",
   "nbconvert_exporter": "python",
   "pygments_lexer": "ipython3",
   "version": "3.10.14"
  }
 },
 "nbformat": 4,
 "nbformat_minor": 2
}
